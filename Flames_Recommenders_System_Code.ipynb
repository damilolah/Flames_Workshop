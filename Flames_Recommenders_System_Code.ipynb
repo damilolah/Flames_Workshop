{
 "cells": [
  {
   "cell_type": "markdown",
   "metadata": {
    "slideshow": {
     "slide_type": "slide"
    }
   },
   "source": [
    "<h1>Outline</h1>\n",
    "\n",
    " * <h2 style=\"color:green\">Let's talk about AI today</h2> \n",
    " * <h2 style=\"color:green\">Privacy vs Convenience</h2> \n",
    " * <h2 style=\"color:green\">Overview of Recommender Systems</h2> \n",
    " * <h2 style=\"color:green\">Methods for Building a Recommender System</h2> \n",
    " * <h2 style=\"color:red\">Implementing a Recommender System</h2> \n",
    " \n",
    "\n",
    "\n",
    "\n"
   ]
  },
  {
   "cell_type": "markdown",
   "metadata": {
    "slideshow": {
     "slide_type": "notes"
    }
   },
   "source": [
    "On that note, we end the overview and begin our workshop building a simple recommendation Engine. "
   ]
  },
  {
   "cell_type": "markdown",
   "metadata": {
    "slideshow": {
     "slide_type": "subslide"
    }
   },
   "source": [
    "#### Instructions\n",
    "\n",
    "* Go to https://go.ncsu.edu/flames_ml\n",
    "* Download the repository \n",
    "* Go to https://cocalc.com/\n",
    "* Create a new project called Flames_Recommender_systems\n",
    "* Click \"Upload File\", Choose \"twenty_users_ratings.csv\" from Highschool Folder on your computer\n",
    "* Click \"Upload File\", Choose \"Flames_Recommenders_System_Code.ipynb\" from Highschool Folder on your computer\n",
    "* Open \"Flames_Recommenders_System_Code.ipynb\"\n",
    "* Click run all"
   ]
  },
  {
   "cell_type": "markdown",
   "metadata": {
    "slideshow": {
     "slide_type": "subslide"
    }
   },
   "source": [
    "#### Section 1: Collaborative Filtering with Python"
   ]
  },
  {
   "cell_type": "markdown",
   "metadata": {
    "slideshow": {
     "slide_type": "slide"
    }
   },
   "source": [
    "<h2><p style=\"display: block; text-align: center;\">Think about Clusters, We think Similarities</p></h2>\n",
    "\n",
    "\n",
    "\n"
   ]
  },
  {
   "cell_type": "markdown",
   "metadata": {
    "slideshow": {
     "slide_type": "notes"
    }
   },
   "source": [
    "We'll be building a collaborative filtering based recommendation systems. That calculates similarities between ratings users have given a movie and use used a similarity matrics called euclidean similarity, to find similar users and recommend movies from those similar users. "
   ]
  },
  {
   "cell_type": "markdown",
   "metadata": {
    "slideshow": {
     "slide_type": "fragment"
    }
   },
   "source": [
    "* If John loves it and John is similar to Mary, it's likely that Mary will love it too!"
   ]
  },
  {
   "cell_type": "markdown",
   "metadata": {
    "slideshow": {
     "slide_type": "notes"
    }
   },
   "source": [
    "User-based Filtering: these system will recommend movies to a user that similar users have liked. For example, let's say John and Mary have watched and liked a set of movies in the past, that means they are similar. We'll give a score to the extent to which they are similar using Euclidean similarity matrics. (that is, they largely like the same movies). \n",
    "\n",
    "Now, suppose some new movies have been released on Netflix. If John has watched and loved it. Then our recommedation system will suggest these set of new movies to Mary as it is highly likely that Mary will like it too."
   ]
  },
  {
   "cell_type": "markdown",
   "metadata": {
    "slideshow": {
     "slide_type": "subslide"
    }
   },
   "source": [
    "#### Question\n",
    "\n",
    "* From what we know about collaborative filtering, can anyone tell us what data/attributes we need for collaborative filtering?"
   ]
  },
  {
   "cell_type": "markdown",
   "metadata": {
    "slideshow": {
     "slide_type": "fragment"
    }
   },
   "source": [
    "#### Answer\n",
    "* Movies all users have watched \n",
    "* Ratings by all users on all they movies they have watched"
   ]
  },
  {
   "cell_type": "markdown",
   "metadata": {
    "slideshow": {
     "slide_type": "slide"
    }
   },
   "source": [
    "### Let's Code"
   ]
  },
  {
   "cell_type": "code",
   "execution_count": 2,
   "metadata": {
    "slideshow": {
     "slide_type": "fragment"
    }
   },
   "outputs": [],
   "source": [
    "#Import necessary libraries\n",
    "import math\n",
    "import pandas as pd"
   ]
  },
  {
   "cell_type": "code",
   "execution_count": 3,
   "metadata": {
    "slideshow": {
     "slide_type": "subslide"
    }
   },
   "outputs": [],
   "source": [
    "#Let's read our data into memory\n",
    "ratings = pd.read_csv(\"twenty_users_ratings.csv\",  index_col=False)\n",
    "\n"
   ]
  },
  {
   "cell_type": "code",
   "execution_count": 6,
   "metadata": {
    "slideshow": {
     "slide_type": "subslide"
    }
   },
   "outputs": [
    {
     "data": {
      "text/html": [
       "<div>\n",
       "<style scoped>\n",
       "    .dataframe tbody tr th:only-of-type {\n",
       "        vertical-align: middle;\n",
       "    }\n",
       "\n",
       "    .dataframe tbody tr th {\n",
       "        vertical-align: top;\n",
       "    }\n",
       "\n",
       "    .dataframe thead th {\n",
       "        text-align: right;\n",
       "    }\n",
       "</style>\n",
       "<table border=\"1\" class=\"dataframe\">\n",
       "  <thead>\n",
       "    <tr style=\"text-align: right;\">\n",
       "      <th></th>\n",
       "      <th>userId</th>\n",
       "      <th>movieId</th>\n",
       "      <th>rating</th>\n",
       "      <th>timestamp</th>\n",
       "      <th>movie_title</th>\n",
       "      <th>user_name</th>\n",
       "    </tr>\n",
       "  </thead>\n",
       "  <tbody>\n",
       "    <tr>\n",
       "      <th>0</th>\n",
       "      <td>1</td>\n",
       "      <td>2</td>\n",
       "      <td>3.5</td>\n",
       "      <td>1112486027</td>\n",
       "      <td>Jumanji (1995)</td>\n",
       "      <td>Michael</td>\n",
       "    </tr>\n",
       "    <tr>\n",
       "      <th>1</th>\n",
       "      <td>1</td>\n",
       "      <td>29</td>\n",
       "      <td>3.5</td>\n",
       "      <td>1112484676</td>\n",
       "      <td>City of Lost Children, The (Cité des enfants p...</td>\n",
       "      <td>Michael</td>\n",
       "    </tr>\n",
       "    <tr>\n",
       "      <th>2</th>\n",
       "      <td>1</td>\n",
       "      <td>32</td>\n",
       "      <td>3.5</td>\n",
       "      <td>1112484819</td>\n",
       "      <td>Twelve Monkeys (a.k.a. 12 Monkeys) (1995)</td>\n",
       "      <td>Michael</td>\n",
       "    </tr>\n",
       "    <tr>\n",
       "      <th>3</th>\n",
       "      <td>1</td>\n",
       "      <td>47</td>\n",
       "      <td>3.5</td>\n",
       "      <td>1112484727</td>\n",
       "      <td>Seven (a.k.a. Se7en) (1995)</td>\n",
       "      <td>Michael</td>\n",
       "    </tr>\n",
       "    <tr>\n",
       "      <th>4</th>\n",
       "      <td>1</td>\n",
       "      <td>50</td>\n",
       "      <td>3.5</td>\n",
       "      <td>1112484580</td>\n",
       "      <td>Usual Suspects, The (1995)</td>\n",
       "      <td>Michael</td>\n",
       "    </tr>\n",
       "    <tr>\n",
       "      <th>5</th>\n",
       "      <td>1</td>\n",
       "      <td>112</td>\n",
       "      <td>3.5</td>\n",
       "      <td>1094785740</td>\n",
       "      <td>Rumble in the Bronx (Hont faan kui) (1995)</td>\n",
       "      <td>Michael</td>\n",
       "    </tr>\n",
       "    <tr>\n",
       "      <th>6</th>\n",
       "      <td>1</td>\n",
       "      <td>151</td>\n",
       "      <td>4.0</td>\n",
       "      <td>1094785734</td>\n",
       "      <td>Rob Roy (1995)</td>\n",
       "      <td>Michael</td>\n",
       "    </tr>\n",
       "    <tr>\n",
       "      <th>7</th>\n",
       "      <td>1</td>\n",
       "      <td>223</td>\n",
       "      <td>4.0</td>\n",
       "      <td>1112485573</td>\n",
       "      <td>Clerks (1994)</td>\n",
       "      <td>Michael</td>\n",
       "    </tr>\n",
       "    <tr>\n",
       "      <th>8</th>\n",
       "      <td>1</td>\n",
       "      <td>253</td>\n",
       "      <td>4.0</td>\n",
       "      <td>1112484940</td>\n",
       "      <td>Interview with the Vampire: The Vampire Chroni...</td>\n",
       "      <td>Michael</td>\n",
       "    </tr>\n",
       "    <tr>\n",
       "      <th>9</th>\n",
       "      <td>1</td>\n",
       "      <td>260</td>\n",
       "      <td>4.0</td>\n",
       "      <td>1112484826</td>\n",
       "      <td>Star Wars: Episode IV - A New Hope (1977)</td>\n",
       "      <td>Michael</td>\n",
       "    </tr>\n",
       "  </tbody>\n",
       "</table>\n",
       "</div>"
      ],
      "text/plain": [
       "   userId  movieId  rating   timestamp  \\\n",
       "0       1        2     3.5  1112486027   \n",
       "1       1       29     3.5  1112484676   \n",
       "2       1       32     3.5  1112484819   \n",
       "3       1       47     3.5  1112484727   \n",
       "4       1       50     3.5  1112484580   \n",
       "5       1      112     3.5  1094785740   \n",
       "6       1      151     4.0  1094785734   \n",
       "7       1      223     4.0  1112485573   \n",
       "8       1      253     4.0  1112484940   \n",
       "9       1      260     4.0  1112484826   \n",
       "\n",
       "                                         movie_title user_name  \n",
       "0                                     Jumanji (1995)   Michael  \n",
       "1  City of Lost Children, The (Cité des enfants p...   Michael  \n",
       "2          Twelve Monkeys (a.k.a. 12 Monkeys) (1995)   Michael  \n",
       "3                        Seven (a.k.a. Se7en) (1995)   Michael  \n",
       "4                         Usual Suspects, The (1995)   Michael  \n",
       "5         Rumble in the Bronx (Hont faan kui) (1995)   Michael  \n",
       "6                                     Rob Roy (1995)   Michael  \n",
       "7                                      Clerks (1994)   Michael  \n",
       "8  Interview with the Vampire: The Vampire Chroni...   Michael  \n",
       "9          Star Wars: Episode IV - A New Hope (1977)   Michael  "
      ]
     },
     "execution_count": 6,
     "metadata": {},
     "output_type": "execute_result"
    }
   ],
   "source": [
    "#Exploratory Analysis\n",
    "ratings.head(10)\n"
   ]
  },
  {
   "cell_type": "code",
   "execution_count": 7,
   "metadata": {
    "slideshow": {
     "slide_type": "subslide"
    }
   },
   "outputs": [
    {
     "data": {
      "text/plain": [
       "array(['Michael', 'Christopher', 'Jessica', 'Matthew', 'Ashley',\n",
       "       'Jennifer', 'Joshua', 'Amanda', 'Daniel', 'David', 'James',\n",
       "       'Robert', 'John', 'Joseph', 'Andrew', 'Ryan', 'Brandon', 'Jason',\n",
       "       'Justin', 'Sarah'], dtype=object)"
      ]
     },
     "execution_count": 7,
     "metadata": {},
     "output_type": "execute_result"
    }
   ],
   "source": [
    "#Exploratory Analysis\n",
    "#Let's see all the users \n",
    "ratings.user_name.unique()\n"
   ]
  },
  {
   "cell_type": "code",
   "execution_count": 12,
   "metadata": {
    "slideshow": {
     "slide_type": "subslide"
    }
   },
   "outputs": [
    {
     "data": {
      "image/png": "[encoded data removed]",
      "text/plain": [
       "<Figure size 432x288 with 1 Axes>"
      ]
     },
     "metadata": {
      "needs_background": "light"
     },
     "output_type": "display_data"
    }
   ],
   "source": [
    "#Exploratory Analysis\n",
    "df = ratings[ratings.user_name==\"Sarah\"]\n",
    "hist = df.rating.hist(bins=14)\n"
   ]
  },
  {
   "cell_type": "code",
   "execution_count": 11,
   "metadata": {
    "slideshow": {
     "slide_type": "subslide"
    }
   },
   "outputs": [
    {
     "data": {
      "text/plain": [
       "array(['Michael', 'Christopher', 'Jessica', 'Matthew', 'Ashley',\n",
       "       'Jennifer', 'Joshua', 'Amanda', 'Daniel', 'David', 'James',\n",
       "       'Robert', 'John', 'Joseph', 'Andrew', 'Ryan', 'Brandon', 'Jason',\n",
       "       'Justin', 'Sarah'], dtype=object)"
      ]
     },
     "execution_count": 11,
     "metadata": {},
     "output_type": "execute_result"
    }
   ],
   "source": []
  },
  {
   "cell_type": "code",
   "execution_count": 12,
   "metadata": {
    "slideshow": {
     "slide_type": "fragment"
    }
   },
   "outputs": [],
   "source": [
    "# Make a copy of our dataframe so that we don't accidentally modify it\n",
    "ratings_dict = ratings.copy()"
   ]
  },
  {
   "cell_type": "code",
   "execution_count": 13,
   "metadata": {
    "slideshow": {
     "slide_type": "subslide"
    }
   },
   "outputs": [],
   "source": [
    "#Make a dictionary of users and the movies they rated\n",
    "all_dict = dict()\n",
    "for usr in ratings_dict.user_name:\n",
    "    one_usr = ratings_dict[ratings_dict.user_name==usr]\n",
    "    usr_dict = dict(zip(one_usr.movie_title, one_usr.rating))\n",
    "    #all_dict = {usr: usr_dict}\n",
    "    all_dict[str(usr)] = usr_dict\n",
    "    \n"
   ]
  },
  {
   "cell_type": "code",
   "execution_count": 14,
   "metadata": {
    "slideshow": {
     "slide_type": "subslide"
    }
   },
   "outputs": [],
   "source": [
    "data = all_dict\n",
    "#Function for calculating similarities\n",
    "def euclidean_similarity(person1, person2):\n",
    "\n",
    "    common_ranked_items = [itm for itm in data[person1] if itm in data[person2]]\n",
    "    rankings = [(data[person1][itm], data[person2][itm]) for itm in common_ranked_items]\n",
    "    distance = [pow(rank[0] - rank[1], 2) for rank in rankings]\n",
    "\n",
    "    return 1 / (1 + sum(distance))"
   ]
  },
  {
   "cell_type": "code",
   "execution_count": 15,
   "metadata": {
    "slideshow": {
     "slide_type": "subslide"
    }
   },
   "outputs": [],
   "source": [
    "# This is a recommend function, which we call to recommend movies to users\n",
    "def recommend(person, bound, similarity=euclidean_similarity):\n",
    "    scores = [(similarity(person, other), other) for other in data if other != person]\n",
    "    \n",
    "    scores.sort()\n",
    "    scores.reverse()\n",
    "    scores = scores[0:bound]\n",
    "\n",
    "    print (scores)\n",
    "    #print (scores.) #(0.5, 'Jennifer'), (0.4, 'Robert'), (0.3076923076923077, 'Brandon'),... 0.5 is more similar\n",
    "\n",
    "    recomms = {}\n",
    "\n",
    "    for sim, other in scores:\n",
    "        ranked = data[other] #Get the movies and respective rating from these users in the same cluster\n",
    "\n",
    "        for itm in ranked: #for all movie similar users have watched\n",
    "            if itm not in data[person]: #get movies this user has not already watched\n",
    "                weight = sim * ranked[itm] #multiply the similarity by the \n",
    "\n",
    "                if itm in recomms:\n",
    "                    s, weights = recomms[itm]\n",
    "                    recomms[itm] = (s + sim, weights + [weight])\n",
    "                else:\n",
    "                    recomms[itm] = (sim, [weight])\n",
    "\n",
    "    #print(recomms)               \n",
    "    for r in recomms:\n",
    "        sim, item = recomms[r]\n",
    "        #print(item) \n",
    "        #print(sum(item)) \n",
    "        recomms[r] = sum(item) / sim #predicted ranking for each movie = actual ranking/similarity\n",
    "\n",
    "    #return recomms\n",
    "    return sorted(recomms.items(), key=lambda x: x[1], reverse=True)[0:bound]"
   ]
  },
  {
   "cell_type": "code",
   "execution_count": null,
   "metadata": {},
   "outputs": [],
   "source": []
  },
  {
   "cell_type": "code",
   "execution_count": 16,
   "metadata": {
    "slideshow": {
     "slide_type": "subslide"
    }
   },
   "outputs": [
    {
     "name": "stdout",
     "output_type": "stream",
     "text": [
      "[(0.5, 'Jennifer'), (0.4, 'Robert'), (0.3076923076923077, 'Brandon'), (0.2857142857142857, 'David'), (0.2857142857142857, 'Andrew')]\n"
     ]
    },
    {
     "data": {
      "text/plain": [
       "[('Mighty Aphrodite (1995)', 5.0),\n",
       " (\"Mr. Holland's Opus (1995)\", 5.0),\n",
       " ('Fatal Attraction (1987)', 5.0),\n",
       " ('Patriot Games (1992)', 5.0),\n",
       " ('Gladiator (2000)', 5.0)]"
      ]
     },
     "execution_count": 16,
     "metadata": {},
     "output_type": "execute_result"
    }
   ],
   "source": [
    "# Finally, Let's recommend 5 movies to Michael\n",
    "recommend(\"Michael\", 5, euclidean_similarity)"
   ]
  },
  {
   "cell_type": "markdown",
   "metadata": {
    "slideshow": {
     "slide_type": "slide"
    }
   },
   "source": [
    "<h1>Thanks for coming & Happy Recommending!</h1>"
   ]
  }
 ],
 "metadata": {
  "celltoolbar": "Slideshow",
  "kernelspec": {
   "display_name": "Python 3",
   "language": "python",
   "name": "python3"
  },
  "language_info": {
   "codemirror_mode": {
    "name": "ipython",
    "version": 3
   },
   "file_extension": ".py",
   "mimetype": "text/x-python",
   "name": "python",
   "nbconvert_exporter": "python",
   "pygments_lexer": "ipython3",
   "version": "3.6.8"
  }
 },
 "nbformat": 4,
 "nbformat_minor": 2
}
