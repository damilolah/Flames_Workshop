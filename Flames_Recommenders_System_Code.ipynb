{
 "cells": [
  {
   "cell_type": "markdown",
   "metadata": {
    "slideshow": {
     "slide_type": "slide"
    }
   },
   "source": [
    "<h1>Outline</h1>\n",
    "\n",
    " * <h2 style=\"color:green\">Let's talk about AI today</h2> \n",
    " * <h2 style=\"color:green\">Privacy vs Convenience</h2> \n",
    " * <h2 style=\"color:green\">Overview of Recommender Systems</h2> \n",
    " * <h2 style=\"color:green\">Methods for Building a Recommender System</h2> \n",
    " * <h2 style=\"color:red\">Implementing a Recommender System</h2> \n",
    " \n",
    "\n",
    "\n",
    "\n"
   ]
  },
  {
   "cell_type": "markdown",
   "metadata": {
    "slideshow": {
     "slide_type": "notes"
    }
   },
   "source": [
    "On that note, we end the overview and begin our workshop building a simple recommendation Engine. "
   ]
  },
  {
   "cell_type": "markdown",
   "metadata": {
    "slideshow": {
     "slide_type": "subslide"
    }
   },
   "source": [
    "#### Instructions\n",
    "\n",
    "* Go to https://go.ncsu.edu/flames_ml\n",
    "* Download the repository \n",
    "* Go to https://cocalc.com/\n",
    "* Create a new project called Flames_Recommender_systems\n",
    "* Click \"Upload File\", Choose \"twenty_users_ratings.csv\" from Highschool Folder on your computer\n",
    "* Click \"Upload File\", Choose \"Flames_Recommenders_System_Code.ipynb\" from Highschool Folder on your computer\n",
    "* Open \"Collaborative_Filtering_Code.ipynb\"\n",
    "* Click run all"
   ]
  },
  {
   "cell_type": "markdown",
   "metadata": {
    "slideshow": {
     "slide_type": "subslide"
    }
   },
   "source": [
    "#### Section 1: Collaborative Filtering with Python"
   ]
  },
  {
   "cell_type": "markdown",
   "metadata": {
    "slideshow": {
     "slide_type": "slide"
    }
   },
   "source": [
    "<h2><p style=\"display: block; text-align: center;\">Think about Clusters, We think Similarities</p></h2>\n",
    "\n",
    "\n",
    "\n"
   ]
  },
  {
   "cell_type": "markdown",
   "metadata": {
    "slideshow": {
     "slide_type": "notes"
    }
   },
   "source": [
    "We'll be building a collaborative filtering based recommendation systems. That calculates similarities between ratings users have given a movie and use used a similarity matrics called euclidean similarity, to find similar users and recommend movies from those similar users. "
   ]
  },
  {
   "cell_type": "markdown",
   "metadata": {
    "slideshow": {
     "slide_type": "fragment"
    }
   },
   "source": [
    "* If John loves it and John is similar to Mary, it's likely that Mary will love it too!"
   ]
  },
  {
   "cell_type": "markdown",
   "metadata": {
    "slideshow": {
     "slide_type": "notes"
    }
   },
   "source": [
    "User-based Filtering: these system will recommend movies to a user that similar users have liked. For example, let's say John and Mary have watched and liked a set of movies in the past, that means they are similar. We'll give a score to the extent to which they are similar using Euclidean similarity matrics. (that is, they largely like the same movies). \n",
    "\n",
    "Now, suppose some new movies have been released on Netflix. If John has watched and loved it. Then our recommedation system will suggest these set of new movies to Mary as it is highly likely that Mary will like it too."
   ]
  },
  {
   "cell_type": "markdown",
   "metadata": {
    "slideshow": {
     "slide_type": "subslide"
    }
   },
   "source": [
    "#### Question\n",
    "\n",
    "* From what we know about collaborative filtering, can anyone tell us what data/attributes we need for collaborative filtering?"
   ]
  },
  {
   "cell_type": "markdown",
   "metadata": {
    "slideshow": {
     "slide_type": "fragment"
    }
   },
   "source": [
    "#### Answer\n",
    "* Movies all users have watched \n",
    "* Ratings by all users on all they movies they have watched"
   ]
  },
  {
   "cell_type": "markdown",
   "metadata": {
    "slideshow": {
     "slide_type": "slide"
    }
   },
   "source": [
    "### Let's Code\n",
    "\n",
    "The code used in this section was adapted from: [ai_society](https://ai-society.github.io/Collaborative-Filtering/)\n",
    "You can also modify it for other datasets as well.\n"
   ]
  },
  {
   "cell_type": "code",
   "execution_count": 9,
   "metadata": {
    "slideshow": {
     "slide_type": "fragment"
    }
   },
   "outputs": [],
   "source": [
    "#Import necessary libraries\n",
    "import math\n",
    "import pandas as pd"
   ]
  },
  {
   "cell_type": "code",
   "execution_count": 10,
   "metadata": {
    "slideshow": {
     "slide_type": "subslide"
    }
   },
   "outputs": [
    {
     "data": {
      "text/html": [
       "<div>\n",
       "<style scoped>\n",
       "    .dataframe tbody tr th:only-of-type {\n",
       "        vertical-align: middle;\n",
       "    }\n",
       "\n",
       "    .dataframe tbody tr th {\n",
       "        vertical-align: top;\n",
       "    }\n",
       "\n",
       "    .dataframe thead th {\n",
       "        text-align: right;\n",
       "    }\n",
       "</style>\n",
       "<table border=\"1\" class=\"dataframe\">\n",
       "  <thead>\n",
       "    <tr style=\"text-align: right;\">\n",
       "      <th></th>\n",
       "      <th>userId</th>\n",
       "      <th>movieId</th>\n",
       "      <th>rating</th>\n",
       "      <th>timestamp</th>\n",
       "      <th>movie_title</th>\n",
       "      <th>user_name</th>\n",
       "    </tr>\n",
       "  </thead>\n",
       "  <tbody>\n",
       "    <tr>\n",
       "      <th>2129</th>\n",
       "      <td>20</td>\n",
       "      <td>2115</td>\n",
       "      <td>3.5</td>\n",
       "      <td>1126539606</td>\n",
       "      <td>Indiana Jones and the Temple of Doom (1984)</td>\n",
       "      <td>Sarah</td>\n",
       "    </tr>\n",
       "    <tr>\n",
       "      <th>2130</th>\n",
       "      <td>20</td>\n",
       "      <td>2571</td>\n",
       "      <td>4.0</td>\n",
       "      <td>1126539826</td>\n",
       "      <td>Matrix, The (1999)</td>\n",
       "      <td>Sarah</td>\n",
       "    </tr>\n",
       "    <tr>\n",
       "      <th>2131</th>\n",
       "      <td>20</td>\n",
       "      <td>2710</td>\n",
       "      <td>4.0</td>\n",
       "      <td>1126539586</td>\n",
       "      <td>Blair Witch Project, The (1999)</td>\n",
       "      <td>Sarah</td>\n",
       "    </tr>\n",
       "    <tr>\n",
       "      <th>2132</th>\n",
       "      <td>20</td>\n",
       "      <td>2987</td>\n",
       "      <td>3.0</td>\n",
       "      <td>1126539549</td>\n",
       "      <td>Who Framed Roger Rabbit? (1988)</td>\n",
       "      <td>Sarah</td>\n",
       "    </tr>\n",
       "    <tr>\n",
       "      <th>2133</th>\n",
       "      <td>20</td>\n",
       "      <td>3176</td>\n",
       "      <td>3.0</td>\n",
       "      <td>1126539815</td>\n",
       "      <td>Talented Mr. Ripley, The (1999)</td>\n",
       "      <td>Sarah</td>\n",
       "    </tr>\n",
       "    <tr>\n",
       "      <th>2134</th>\n",
       "      <td>20</td>\n",
       "      <td>3785</td>\n",
       "      <td>3.0</td>\n",
       "      <td>1126539891</td>\n",
       "      <td>Scary Movie (2000)</td>\n",
       "      <td>Sarah</td>\n",
       "    </tr>\n",
       "    <tr>\n",
       "      <th>2135</th>\n",
       "      <td>20</td>\n",
       "      <td>4306</td>\n",
       "      <td>3.5</td>\n",
       "      <td>1126539543</td>\n",
       "      <td>Shrek (2001)</td>\n",
       "      <td>Sarah</td>\n",
       "    </tr>\n",
       "    <tr>\n",
       "      <th>2136</th>\n",
       "      <td>20</td>\n",
       "      <td>4351</td>\n",
       "      <td>3.5</td>\n",
       "      <td>1126539896</td>\n",
       "      <td>Point Break (1991)</td>\n",
       "      <td>Sarah</td>\n",
       "    </tr>\n",
       "    <tr>\n",
       "      <th>2137</th>\n",
       "      <td>20</td>\n",
       "      <td>5952</td>\n",
       "      <td>3.5</td>\n",
       "      <td>1126539610</td>\n",
       "      <td>Lord of the Rings: The Two Towers, The (2002)</td>\n",
       "      <td>Sarah</td>\n",
       "    </tr>\n",
       "    <tr>\n",
       "      <th>2138</th>\n",
       "      <td>20</td>\n",
       "      <td>6807</td>\n",
       "      <td>3.5</td>\n",
       "      <td>1126539870</td>\n",
       "      <td>Monty Python's The Meaning of Life (1983)</td>\n",
       "      <td>Sarah</td>\n",
       "    </tr>\n",
       "  </tbody>\n",
       "</table>\n",
       "</div>"
      ],
      "text/plain": [
       "      userId  movieId  rating   timestamp  \\\n",
       "2129      20     2115     3.5  1126539606   \n",
       "2130      20     2571     4.0  1126539826   \n",
       "2131      20     2710     4.0  1126539586   \n",
       "2132      20     2987     3.0  1126539549   \n",
       "2133      20     3176     3.0  1126539815   \n",
       "2134      20     3785     3.0  1126539891   \n",
       "2135      20     4306     3.5  1126539543   \n",
       "2136      20     4351     3.5  1126539896   \n",
       "2137      20     5952     3.5  1126539610   \n",
       "2138      20     6807     3.5  1126539870   \n",
       "\n",
       "                                        movie_title user_name  \n",
       "2129    Indiana Jones and the Temple of Doom (1984)     Sarah  \n",
       "2130                             Matrix, The (1999)     Sarah  \n",
       "2131                Blair Witch Project, The (1999)     Sarah  \n",
       "2132                Who Framed Roger Rabbit? (1988)     Sarah  \n",
       "2133                Talented Mr. Ripley, The (1999)     Sarah  \n",
       "2134                             Scary Movie (2000)     Sarah  \n",
       "2135                                   Shrek (2001)     Sarah  \n",
       "2136                             Point Break (1991)     Sarah  \n",
       "2137  Lord of the Rings: The Two Towers, The (2002)     Sarah  \n",
       "2138      Monty Python's The Meaning of Life (1983)     Sarah  "
      ]
     },
     "execution_count": 10,
     "metadata": {},
     "output_type": "execute_result"
    }
   ],
   "source": [
    "#Let's read our data into memory\n",
    "ratings = pd.read_csv(\"twenty_users_ratings.csv\",  index_col=False)\n",
    "ratings.tail(10)\n"
   ]
  },
  {
   "cell_type": "code",
   "execution_count": 11,
   "metadata": {
    "slideshow": {
     "slide_type": "subslide"
    }
   },
   "outputs": [
    {
     "data": {
      "text/plain": [
       "array(['Michael', 'Christopher', 'Jessica', 'Matthew', 'Ashley',\n",
       "       'Jennifer', 'Joshua', 'Amanda', 'Daniel', 'David', 'James',\n",
       "       'Robert', 'John', 'Joseph', 'Andrew', 'Ryan', 'Brandon', 'Jason',\n",
       "       'Justin', 'Sarah'], dtype=object)"
      ]
     },
     "execution_count": 11,
     "metadata": {},
     "output_type": "execute_result"
    }
   ],
   "source": [
    "#Let's see all the users \n",
    "ratings.user_name.unique()"
   ]
  },
  {
   "cell_type": "code",
   "execution_count": 12,
   "metadata": {
    "slideshow": {
     "slide_type": "fragment"
    }
   },
   "outputs": [],
   "source": [
    "# Make a copy of our dataframe so that we don't accidentally modify it\n",
    "ratings_dict = ratings.copy()"
   ]
  },
  {
   "cell_type": "code",
   "execution_count": 13,
   "metadata": {
    "slideshow": {
     "slide_type": "subslide"
    }
   },
   "outputs": [],
   "source": [
    "#Make a dictionary of users and the movies they rated\n",
    "all_dict = dict()\n",
    "for usr in ratings_dict.user_name:\n",
    "    one_usr = ratings_dict[ratings_dict.user_name==usr]\n",
    "    usr_dict = dict(zip(one_usr.movie_title, one_usr.rating))\n",
    "    #all_dict = {usr: usr_dict}\n",
    "    all_dict[str(usr)] = usr_dict\n",
    "    \n"
   ]
  },
  {
   "cell_type": "code",
   "execution_count": 14,
   "metadata": {
    "slideshow": {
     "slide_type": "subslide"
    }
   },
   "outputs": [],
   "source": [
    "data = all_dict\n",
    "#Function for calculating similarities\n",
    "def euclidean_similarity(person1, person2):\n",
    "\n",
    "    common_ranked_items = [itm for itm in data[person1] if itm in data[person2]]\n",
    "    rankings = [(data[person1][itm], data[person2][itm]) for itm in common_ranked_items]\n",
    "    distance = [pow(rank[0] - rank[1], 2) for rank in rankings]\n",
    "\n",
    "    return 1 / (1 + sum(distance))"
   ]
  },
  {
   "cell_type": "code",
   "execution_count": 15,
   "metadata": {
    "slideshow": {
     "slide_type": "subslide"
    }
   },
   "outputs": [],
   "source": [
    "# This is a recommend function, which we call to recommend movies to users\n",
    "def recommend(person, bound, similarity=euclidean_similarity):\n",
    "    scores = [(similarity(person, other), other) for other in data if other != person]\n",
    "    \n",
    "    scores.sort()\n",
    "    scores.reverse()\n",
    "    scores = scores[0:bound]\n",
    "\n",
    "    print (scores)\n",
    "    #print (scores.) #(0.5, 'Jennifer'), (0.4, 'Robert'), (0.3076923076923077, 'Brandon'),... 0.5 is more similar\n",
    "\n",
    "    recomms = {}\n",
    "\n",
    "    for sim, other in scores:\n",
    "        ranked = data[other] #Get the movies and respective rating from these users in the same cluster\n",
    "\n",
    "        for itm in ranked: #for all movie similar users have watched\n",
    "            if itm not in data[person]: #get movies this user has not already watched\n",
    "                weight = sim * ranked[itm] #multiply the similarity by the \n",
    "\n",
    "                if itm in recomms:\n",
    "                    s, weights = recomms[itm]\n",
    "                    recomms[itm] = (s + sim, weights + [weight])\n",
    "                else:\n",
    "                    recomms[itm] = (sim, [weight])\n",
    "\n",
    "    #print(recomms)               \n",
    "    for r in recomms:\n",
    "        sim, item = recomms[r]\n",
    "        #print(item) \n",
    "        #print(sum(item)) \n",
    "        recomms[r] = sum(item) / sim #predicted ranking for each movie = actual ranking/similarity\n",
    "\n",
    "    #return recomms\n",
    "    return sorted(recomms.items(), key=lambda x: x[1], reverse=True)[0:bound]"
   ]
  },
  {
   "cell_type": "code",
   "execution_count": null,
   "metadata": {},
   "outputs": [],
   "source": []
  },
  {
   "cell_type": "code",
   "execution_count": 16,
   "metadata": {
    "slideshow": {
     "slide_type": "subslide"
    }
   },
   "outputs": [
    {
     "name": "stdout",
     "output_type": "stream",
     "text": [
      "[(0.5, 'Jennifer'), (0.4, 'Robert'), (0.3076923076923077, 'Brandon'), (0.2857142857142857, 'David'), (0.2857142857142857, 'Andrew')]\n"
     ]
    },
    {
     "data": {
      "text/plain": [
       "[('Mighty Aphrodite (1995)', 5.0),\n",
       " (\"Mr. Holland's Opus (1995)\", 5.0),\n",
       " ('Fatal Attraction (1987)', 5.0),\n",
       " ('Patriot Games (1992)', 5.0),\n",
       " ('Gladiator (2000)', 5.0)]"
      ]
     },
     "execution_count": 16,
     "metadata": {},
     "output_type": "execute_result"
    }
   ],
   "source": [
    "# Finally, Let's recommend 5 movies to Michael\n",
    "recommend(\"Michael\", 5, euclidean_similarity)"
   ]
  },
  {
   "cell_type": "markdown",
   "metadata": {
    "slideshow": {
     "slide_type": "slide"
    }
   },
   "source": [
    "<h1>Thanks for coming & Happy Recommending!</h1>"
   ]
  }
 ],
 "metadata": {
  "celltoolbar": "Slideshow",
  "kernelspec": {
   "display_name": "Python 3",
   "language": "python",
   "name": "python3"
  },
  "language_info": {
   "codemirror_mode": {
    "name": "ipython",
    "version": 3
   },
   "file_extension": ".py",
   "mimetype": "text/x-python",
   "name": "python",
   "nbconvert_exporter": "python",
   "pygments_lexer": "ipython3",
   "version": "3.6.8"
  }
 },
 "nbformat": 4,
 "nbformat_minor": 2
}
