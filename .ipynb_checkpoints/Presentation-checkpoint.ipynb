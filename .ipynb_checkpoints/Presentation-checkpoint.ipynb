{
 "cells": [
  {
   "cell_type": "markdown",
   "metadata": {
    "slideshow": {
     "slide_type": "slide"
    }
   },
   "source": [
    "<h1><p style=\"display: block; text-align: center;\">AI of the 21st Century!</p></h1>\n",
    "\n",
    "<h3><p style=\"display: block; text-align: center;\">Introduction to Recommender Systems</p></h3>\n",
    "\n",
    "<h5><p style=\"display: block; text-align: center;\">Ruth Okoilu Akintunde</p></h5>"
   ]
  },
  {
   "cell_type": "markdown",
   "metadata": {
    "slideshow": {
     "slide_type": "subslide"
    }
   },
   "source": [
    "<h1><p style=\"display: block; text-align: center;\">About me</p></h1>"
   ]
  },
  {
   "cell_type": "markdown",
   "metadata": {
    "slideshow": {
     "slide_type": "subslide"
    }
   },
   "source": [
    "![title](img2/bio.PNG) "
   ]
  },
  {
   "cell_type": "markdown",
   "metadata": {
    "slideshow": {
     "slide_type": "slide"
    }
   },
   "source": [
    "<h1><p style=\"display: block; text-align: center;\">Our Talk Today is About:</p></h1>\n",
    "\n",
    " * <h2 style=\"color:red\">Data</h2> \n",
    " * <h2 style=\"color:green\">Artificial Intelligence</h2> \n",
    " * <h2 style=\"color:green\">Machine Learning</h2> \n",
    " * <h2 style=\"color:green\">Recommenders System</h2> \n"
   ]
  },
  {
   "cell_type": "markdown",
   "metadata": {
    "slideshow": {
     "slide_type": "subslide"
    }
   },
   "source": [
    "<center><img src=img2/DATA.png></center>\n"
   ]
  },
  {
   "cell_type": "markdown",
   "metadata": {
    "slideshow": {
     "slide_type": "notes"
    }
   },
   "source": [
    "\n",
    "#### Let's Talk About DATA!!!\n",
    "#### Data is unprocessed information\n",
    "####  Sometime in 2005 we called it big data. How many of you were born before 2005? Y'all are older than big data\n",
    "\n",
    "#### Big Data is extremely large data sets that may be analyzed computationally to reveal patterns, trends, and associations, especially relating to human behavior and interactions. actions alone. \n",
    "\n",
    "#### You and I are the producers of big data. We use Facebook, instagram, Snapchat, twitter everyday and store all our information, names pictures, achievement likes, dislikes, secrets and passions on the internet everyday.\n",
    "#### Computer Scientist came up with a method to use your data and my data to create smart technologies for us.\n",
    "#### We can say thay this engine right here is a artificial intelligent engine. This leads us to what we call Artificial Intelligence."
   ]
  },
  {
   "cell_type": "markdown",
   "metadata": {
    "slideshow": {
     "slide_type": "slide"
    }
   },
   "source": [
    "<h1><p style=\"display: block; text-align: center;\">Our Talk Today is About:</p></h1>\n",
    "\n",
    " * <h2 style=\"color:green\">Data</h2> \n",
    " * <h2 style=\"color:red\">Artificial Intelligence</h2> \n",
    " * <h2 style=\"color:green\">Machine Learning</h2> \n",
    " * <h2 style=\"color:green\">Recommenders System</h2> \n"
   ]
  },
  {
   "cell_type": "markdown",
   "metadata": {
    "slideshow": {
     "slide_type": "subslide"
    }
   },
   "source": [
    "<center><img src=img2/ai.png></center>\n"
   ]
  },
  {
   "cell_type": "markdown",
   "metadata": {
    "slideshow": {
     "slide_type": "notes"
    }
   },
   "source": [
    "\n",
    "Artificial Intelligence or AI or machine intelligence is intelligence demonstrated by machines. For example, your phone is smart or intelligent when it can give you directions to your home. The weather app can accurately forecast the weather. Artificial Intelligence has lots of sub-fields inclusing what we call Machine Learning. \n",
    "\n",
    "These sub-fields are interwoven. I.e. You can apply all of them to achieve an artificially intelligent robot\n",
    "\n",
    "Planning is the act of designing sequences of steps for your robot to make a right decision. For example your irobot vacuum cleaner.\n",
    "\n",
    "Robotiocs is when you design the robot itself. Combining the software and hardware parts.\n",
    "\n",
    "Machine learning is the scientific study of algorithms and statistical models that computer systems use to perform a specific task without using explicit instructions, relying on patterns and inference instead. For example when you create a model to predict 2020 All stars. \n",
    "\n",
    "NLP - when you speak to alexa and she speaks back\n",
    "\n",
    "Perception: teach the computer how to perceive, hear, see, feel\n",
    "\n",
    "Knowledge - representing information about the world in a form that a computer system can utilize to solve complex tasks such as diagnosing a medical condition - Some people do semantic webs to enalbe computer undersatnd connection btw data\n",
    "\n",
    "\n",
    "Cognitive systems - Trying to make the computer think like human.\n",
    "\n",
    "NN - Trying to make the computer act like a human brain\n",
    "\n",
    "We will be focusing on an application of MAchine Learning today called recommenders system."
   ]
  },
  {
   "cell_type": "markdown",
   "metadata": {
    "slideshow": {
     "slide_type": "slide"
    }
   },
   "source": [
    "<h1><p style=\"display: block; text-align: center;\">Our Talk Today is About:</p></h1>\n",
    "\n",
    " * <h2 style=\"color:green\">Data</h2> \n",
    " * <h2 style=\"color:green\">Artificial Intelligence</h2> \n",
    " * <h2 style=\"color:green\">Machine Learning</h2> \n",
    " * <h2 style=\"color:red\">Recommenders System</h2> \n"
   ]
  },
  {
   "cell_type": "markdown",
   "metadata": {
    "slideshow": {
     "slide_type": "subslide"
    }
   },
   "source": [
    "\n",
    "<h1><p style=\"display: block; text-align: center;\">Github Link</p></h1>\n",
    "<center>   \n",
    "\n",
    "#### A copy of this presentation, the hands-on codes that follow as well as the datasets we'll use during the hands-on session can be found in a github repository in this link:\n",
    "#### https://go.ncsu.edu/flames_ml\n",
    "</center>\n"
   ]
  },
  {
   "cell_type": "code",
   "execution_count": 1,
   "metadata": {
    "slideshow": {
     "slide_type": "skip"
    }
   },
   "outputs": [
    {
     "name": "stdout",
     "output_type": "stream",
     "text": [
      "Using Python version 3.6.8\n"
     ]
    }
   ],
   "source": [
    "import platform\n",
    "print('Using Python version', platform.python_version())"
   ]
  },
  {
   "cell_type": "markdown",
   "metadata": {
    "slideshow": {
     "slide_type": "slide"
    }
   },
   "source": [
    "<h1>Outline</h1>\n",
    "\n",
    " * <h2 style=\"color:red\">Let's talk about Artificial Intelligence today</h2> \n",
    " * <h2 style=\"color:gray\">Privacy vs Convenience</h2> \n",
    " * <h2 style=\"color:gray\">Overview of Recommender Systems</h2> \n",
    " * <h2 style=\"color:gray\">Methods for Building a Recommender System</h2> \n",
    " * <h2 style=\"color:gray\">Implementing a Recommender System</h2> \n",
    "\n"
   ]
  },
  {
   "cell_type": "markdown",
   "metadata": {
    "slideshow": {
     "slide_type": "slide"
    }
   },
   "source": [
    "<h1>Let's talk about AI today</h1>"
   ]
  },
  {
   "cell_type": "markdown",
   "metadata": {
    "slideshow": {
     "slide_type": "subslide"
    }
   },
   "source": [
    "<center><img src=img2/tech.gif></center>"
   ]
  },
  {
   "cell_type": "markdown",
   "metadata": {
    "slideshow": {
     "slide_type": "notes"
    }
   },
   "source": [
    "How many of you know Amazon?\n",
    "What of Google Microsoft, Facebook?\n",
    "Who among you want s to work with any of these big firms someday. Great!\n",
    "\n",
    "All big tech firms are currently in an AI talent battle and you should join in as well. \n",
    "One reason is the ginomous gold mine this happens to be. Especially in the world of personalized advertising. "
   ]
  },
  {
   "cell_type": "markdown",
   "metadata": {
    "slideshow": {
     "slide_type": "subslide"
    }
   },
   "source": [
    "![title](img2/AI.jpg) "
   ]
  },
  {
   "cell_type": "markdown",
   "metadata": {
    "slideshow": {
     "slide_type": "notes"
    }
   },
   "source": [
    "These days there are APIs that can provide information about user's location and whatever is going on around these users. Particular when these users tend to rely absolutly on technology. \n"
   ]
  },
  {
   "cell_type": "markdown",
   "metadata": {
    "slideshow": {
     "slide_type": "subslide"
    }
   },
   "source": [
    "<center><img src=img2/alexa.jpg></center>"
   ]
  },
  {
   "cell_type": "markdown",
   "metadata": {
    "slideshow": {
     "slide_type": "notes"
    }
   },
   "source": [
    "You have Alexa powered homes, your conversations being analyzed, your shopping preference garnered to give the machine an idea of who you are. All these APIs collect data that can be used for more effective personalization. \n",
    "\n"
   ]
  },
  {
   "cell_type": "markdown",
   "metadata": {
    "slideshow": {
     "slide_type": "slide"
    }
   },
   "source": [
    "<h1>Outline</h1>\n",
    "\n",
    " * <h2 style=\"color:green\">Let's talk about AI today</h2> \n",
    " * <h2 style=\"color:red\">Privacy vs Convenience</h2> \n",
    " * <h2 style=\"color:gray\">Overview of Recommender Systems</h2> \n",
    " * <h2 style=\"color:gray\">Methods for Building a Recommender System</h2> \n",
    " * <h2 style=\"color:gray\">Implementing a Recommender System</h2> \n",
    "\n"
   ]
  },
  {
   "cell_type": "markdown",
   "metadata": {
    "slideshow": {
     "slide_type": "subslide"
    }
   },
   "source": [
    "<center><img src=img2/pii.jpg></center>"
   ]
  },
  {
   "cell_type": "markdown",
   "metadata": {
    "slideshow": {
     "slide_type": "notes"
    }
   },
   "source": [
    "But, wait a minute, I have a question. This is your data! What's it doing out there? You name, different pictures of you \n",
    "The answer isL it's an unconscious trade by barter where you exchange your privacy for tailored technology and convenience which most of us enjoy. We enjoy Walmart's reminders to re-order items, Netflix useful movie suggestions, Ok Google's advise to put on an extra of clothing because it will be freezing cold today. We don't have to type anymore. We can simply speak the word.\n",
    "\n",
    "Although they claim that technology has advanced to a point where it is possible to anonymoize data and run this complex AI algorithms without actually knowing any personally identifiable information (PII) about these users.\n",
    "But is that really the case.\n",
    "\n",
    "Some people got uncomfortable with this and put Facebook founder Mark Zuckerberg on the hot seat and so it's not surprizing that the first statement he made in the famous Facebook F8 conference 2019 had the word privacy in it.\n",
    "\n",
    "Listen: Can someone tell me who this man is?      ..... Answer: Mark Zuckerberg\n",
    "\n",
    "\n",
    "https://www.youtube.com/watch?v=UtxPdezclYw"
   ]
  },
  {
   "cell_type": "markdown",
   "metadata": {
    "slideshow": {
     "slide_type": "slide"
    }
   },
   "source": [
    "![title](img2/fbm.png) "
   ]
  },
  {
   "cell_type": "markdown",
   "metadata": {
    "slideshow": {
     "slide_type": "notes"
    }
   },
   "source": [
    "\n",
    "Okay, Does this mean Facebook and instagram applications are currently listening to our conversation?\n",
    "But let's wait and see how that model works for Facebook!"
   ]
  },
  {
   "cell_type": "markdown",
   "metadata": {
    "slideshow": {
     "slide_type": "slide"
    }
   },
   "source": [
    "<h1><p style=\"display: block; text-align: center;\">How Then Do They Know What I Like?</p></h1>\n",
    "\n",
    "\n"
   ]
  },
  {
   "cell_type": "markdown",
   "metadata": {
    "slideshow": {
     "slide_type": "subslide"
    }
   },
   "source": [
    "<center><img src=img2/napi.jpg></center>"
   ]
  },
  {
   "cell_type": "markdown",
   "metadata": {
    "slideshow": {
     "slide_type": "notes"
    }
   },
   "source": [
    "\n",
    "\n",
    "Today, we'll learn how Netflix knows that I will like \"Nappily Ever After\", you know I didn't tell them, I'm a black girl or I love Romantic movies. They didn't make me fill any form about that. So how did they know?\n",
    "\n"
   ]
  },
  {
   "cell_type": "markdown",
   "metadata": {
    "slideshow": {
     "slide_type": "subslide"
    }
   },
   "source": [
    "<center><img src=img2/fb.jpg></center>"
   ]
  },
  {
   "cell_type": "markdown",
   "metadata": {
    "slideshow": {
     "slide_type": "notes"
    }
   },
   "source": [
    "How does Facebook know I need new mattress? Why do I keep seeing this ad to purchase what I talked to myself about buying last night. How does Amazon know that this is the perfect Father's day gift for my Dad?"
   ]
  },
  {
   "cell_type": "markdown",
   "metadata": {
    "slideshow": {
     "slide_type": "slide"
    }
   },
   "source": [
    "<h1><p style=\"display: block; text-align: center;\">Recommender Systems!</p></h1>\n",
    "\n",
    "\n"
   ]
  },
  {
   "cell_type": "markdown",
   "metadata": {
    "slideshow": {
     "slide_type": "notes"
    }
   },
   "source": [
    "Recommender systems have become extremely popular and irreplacable in the world of data science. Recommenders system a.k.a recommendation engine, framework etc. can   predict your preference and what rating you would give to a product. All big tech giants will pay you a torn to improve their recommendation engines because there in lies revenue. The right produc to the right person at the right time guarantees a purchase, engagement etc. and what business doesn't like an addicted customer. "
   ]
  },
  {
   "cell_type": "markdown",
   "metadata": {
    "slideshow": {
     "slide_type": "subslide"
    }
   },
   "source": [
    "<center><img src=img2/netflix_rec.jpg></center>\n",
    "\n",
    "Source: [NewyorkTimes](https://bits.blogs.nytimes.com/2009/09/21/netflix-awards-1-million-prize-and-starts-a-new-contest/)"
   ]
  },
  {
   "cell_type": "markdown",
   "metadata": {
    "slideshow": {
     "slide_type": "skip"
    }
   },
   "source": [
    "https://bits.blogs.nytimes.com/2009/09/21/netflix-awards-1-million-prize-and-starts-a-new-contest/"
   ]
  },
  {
   "cell_type": "markdown",
   "metadata": {
    "slideshow": {
     "slide_type": "notes"
    }
   },
   "source": [
    "In fact, Netflix even offered a million dollars in 2009 to anyone who could improve its system by 10%.\n"
   ]
  },
  {
   "cell_type": "markdown",
   "metadata": {
    "slideshow": {
     "slide_type": "subslide"
    }
   },
   "source": [
    "<h2><p style=\"display: block; text-align: center;\">How does Diapers and Beers go together?</p></h2>"
   ]
  },
  {
   "cell_type": "markdown",
   "metadata": {
    "slideshow": {
     "slide_type": "notes"
    }
   },
   "source": [
    "The first time I heard about recommenders system was in 2010 when my college professor told me that AI guru's recommended that retailers stock beers and diapers together. This was an inference from static recommendation analysis.\n",
    "\n",
    "Which is this!\n",
    "\n",
    "Listen and tell me if it's true. Fathers in the house listen:\n",
    "\n",
    "Men between the ages of 30-40 years shopping betwen 5-7pm on Fridays who purchase diapers were most likely to also have beer in their carts. \n",
    "\n",
    "Source: [Reference](http://www.dssresources.com/newsletters/66.php)\n",
    "\n"
   ]
  },
  {
   "cell_type": "markdown",
   "metadata": {
    "slideshow": {
     "slide_type": "subslide"
    }
   },
   "source": [
    "<center><img src=img2/bezos.jpg></center>"
   ]
  },
  {
   "cell_type": "markdown",
   "metadata": {
    "slideshow": {
     "slide_type": "notes"
    }
   },
   "source": [
    "AI did it for this guys right here. Knowing how to make th most of the Black Friday Sales using Recommender System. Amazon Jeff Bezos rose up the ranks because AI could help predict what products to place a discount on and hoe much discount. Also, recommending the right products to you with a discount that ensures purchase."
   ]
  },
  {
   "cell_type": "markdown",
   "metadata": {
    "slideshow": {
     "slide_type": "subslide"
    }
   },
   "source": [
    "<center><img src=img2/now.gif></center>\n"
   ]
  },
  {
   "cell_type": "markdown",
   "metadata": {
    "slideshow": {
     "slide_type": "notes"
    }
   },
   "source": [
    "Nobody's got time for old news. Recommendation engines today are real time, precise with respect to timing amd tailored to the whatever is currently going on aroud you.\n",
    "\n",
    "Target was able to predict the pregnancy of a teen girl before the father realized it.\n",
    "\n",
    "Tell me what I should eat for lunch base on what I love eating around this time or what I ate this time last week."
   ]
  },
  {
   "cell_type": "markdown",
   "metadata": {
    "slideshow": {
     "slide_type": "slide"
    }
   },
   "source": [
    "<h1>Outline</h1>\n",
    "\n",
    " * <h2 style=\"color:green\">Let's talk about AI today</h2> \n",
    " * <h2 style=\"color:green\">Privacy vs Convenience</h2> \n",
    " * <h2 style=\"color:green\">Overview of Recommender Systems</h2> \n",
    " * <h2 style=\"color:red\">Methods for Building a Recommender System</h2> \n",
    " * <h2 style=\"color:gray\">Implementing a Recommender System</h2> \n",
    "\n",
    "\n"
   ]
  },
  {
   "cell_type": "markdown",
   "metadata": {
    "slideshow": {
     "slide_type": "slide"
    }
   },
   "source": [
    "### There are 2 Most Popular Methods Behind These Genius Systems"
   ]
  },
  {
   "cell_type": "markdown",
   "metadata": {
    "slideshow": {
     "slide_type": "fragment"
    }
   },
   "source": [
    "* Content-based"
   ]
  },
  {
   "cell_type": "markdown",
   "metadata": {
    "slideshow": {
     "slide_type": "fragment"
    }
   },
   "source": [
    "* Collaborative Filtering"
   ]
  },
  {
   "cell_type": "markdown",
   "metadata": {
    "slideshow": {
     "slide_type": "fragment"
    }
   },
   "source": [
    "* Hybrid of Content-based and Collaborative Filtering"
   ]
  },
  {
   "cell_type": "markdown",
   "metadata": {
    "slideshow": {
     "slide_type": "notes"
    }
   },
   "source": [
    "The Hybrid method is also worth mentioning. This is simply an approach that combines collaborative filtering and content-based filtering into a unified system.\n",
    "\n",
    "Clearly, using both types of information together can potentially yield a more powerful recommendation system, which is why model-based hybrid recommender systems were developed \n"
   ]
  },
  {
   "cell_type": "markdown",
   "metadata": {
    "slideshow": {
     "slide_type": "slide"
    }
   },
   "source": [
    "<h2><p style=\"display: block; text-align: center;\">Content Based Method</p></h2>\n",
    "\n",
    "\n"
   ]
  },
  {
   "cell_type": "markdown",
   "metadata": {
    "slideshow": {
     "slide_type": "fragment"
    }
   },
   "source": [
    "* Recommend product based on historical product features"
   ]
  },
  {
   "cell_type": "markdown",
   "metadata": {
    "slideshow": {
     "slide_type": "notes"
    }
   },
   "source": [
    "A user is recommended a product based on historical product features. You search for sneakers or even purchased a pair of sneakers and you are recommneded other brands, other types of foot wear or even socks, shoe polish etc.  \n"
   ]
  },
  {
   "cell_type": "markdown",
   "metadata": {
    "slideshow": {
     "slide_type": "fragment"
    }
   },
   "source": [
    "* Exploits semantic relationships between historical purchases"
   ]
  },
  {
   "cell_type": "markdown",
   "metadata": {
    "slideshow": {
     "slide_type": "notes"
    }
   },
   "source": [
    "This exploits the semantic relations between historically searches e.g. jobs you previously applied to, you then get a recommendation of a job with a similar salary range or job discription etc. These features are usually derived from textual information and semantic meaning of the products involved. "
   ]
  },
  {
   "cell_type": "markdown",
   "metadata": {
    "slideshow": {
     "slide_type": "subslide"
    }
   },
   "source": [
    "![title](img2/linked.png) "
   ]
  },
  {
   "cell_type": "markdown",
   "metadata": {
    "slideshow": {
     "slide_type": "notes"
    }
   },
   "source": [
    "Think of it as a linked graph of items, such that when you order one item, they recommend items on the branches of the graph to you. You watched You've got mail and they recommend sleeples because it's a Tom Hanks movie. "
   ]
  },
  {
   "cell_type": "markdown",
   "metadata": {
    "slideshow": {
     "slide_type": "subslide"
    }
   },
   "source": [
    "#### Downside to Content-Based Approaches"
   ]
  },
  {
   "cell_type": "markdown",
   "metadata": {
    "slideshow": {
     "slide_type": "fragment"
    }
   },
   "source": [
    "* Not refreshing"
   ]
  },
  {
   "cell_type": "markdown",
   "metadata": {
    "slideshow": {
     "slide_type": "notes"
    }
   },
   "source": [
    "The downside to this approach is that the recommendations are not always refreshing. It revolves around a particular theme. It's mostly capable of suggesting movies which are close to a certain movie. It might not capture tastes and provide suggestions across genres.\n"
   ]
  },
  {
   "cell_type": "markdown",
   "metadata": {
    "slideshow": {
     "slide_type": "fragment"
    }
   },
   "source": [
    "* Not personal"
   ]
  },
  {
   "cell_type": "markdown",
   "metadata": {
    "slideshow": {
     "slide_type": "notes"
    }
   },
   "source": [
    "The system is not really personal that we built is not really personal in that it doesn't capture the personal tastes and biases of a user. It recommends the same set of movies to everyone that has watched a Tom Hanks movie regardless of their current taste or preference.\n",
    "\n"
   ]
  },
  {
   "cell_type": "markdown",
   "metadata": {
    "slideshow": {
     "slide_type": "subslide"
    }
   },
   "source": [
    "#### Upside to Content-Based Approaches"
   ]
  },
  {
   "cell_type": "markdown",
   "metadata": {
    "slideshow": {
     "slide_type": "fragment"
    }
   },
   "source": [
    "* Does not face the cold start problem"
   ]
  },
  {
   "cell_type": "markdown",
   "metadata": {
    "slideshow": {
     "slide_type": "slide"
    }
   },
   "source": [
    "<h2><p style=\"display: block; text-align: center;\">Collaborative Filtering Method</p></h2>\n"
   ]
  },
  {
   "cell_type": "markdown",
   "metadata": {
    "slideshow": {
     "slide_type": "fragment"
    }
   },
   "source": [
    "* Clusters similar users into a group"
   ]
  },
  {
   "cell_type": "markdown",
   "metadata": {
    "slideshow": {
     "slide_type": "notes"
    }
   },
   "source": [
    "This method groups users into similar groups based on the items they purchased in the past. Lets do a little exercise that will explain what I mean. So that I dont have to talk too much,"
   ]
  },
  {
   "cell_type": "markdown",
   "metadata": {
    "slideshow": {
     "slide_type": "subslide"
    }
   },
   "source": [
    "![title](img2/collab.png) \n",
    "Source: [DataTorrent](https://www.youtube.com/watch?v=-R-krTgEOlM)"
   ]
  },
  {
   "cell_type": "markdown",
   "metadata": {
    "slideshow": {
     "slide_type": "fragment"
    }
   },
   "source": [
    "* Can you cluster any two users?"
   ]
  },
  {
   "cell_type": "markdown",
   "metadata": {
    "slideshow": {
     "slide_type": "fragment"
    }
   },
   "source": [
    "* Will user E be recommended a laptop?"
   ]
  },
  {
   "cell_type": "markdown",
   "metadata": {
    "slideshow": {
     "slide_type": "notes"
    }
   },
   "source": [
    "We have 5 users and 4 products:\n",
    "\n",
    "An Ipad, a Notebook, Laptop and game.\n",
    "Based on the first 2 items the users purchased previously. Can you cluster these users into groups. Surposing we label the users A, B, C, D ,E. For me, I can see should user C and E being in the same group. Because their first 2 purchases are similar. \n",
    "\n",
    "Quick question:\n",
    "Will user E be recomended item 3?\n",
    "\n",
    "Answer:\n",
    "We can see user C who is similar to E does not like the Laptop so it will not be recommended.\n"
   ]
  },
  {
   "cell_type": "markdown",
   "metadata": {
    "slideshow": {
     "slide_type": "subslide"
    }
   },
   "source": [
    "#### Downside to Collaborative Filtering Approaches"
   ]
  },
  {
   "cell_type": "markdown",
   "metadata": {
    "slideshow": {
     "slide_type": "fragment"
    }
   },
   "source": [
    "* Cold start problem when no or little purchase history is available"
   ]
  },
  {
   "cell_type": "markdown",
   "metadata": {
    "slideshow": {
     "slide_type": "fragment"
    }
   },
   "source": [
    "* Model needs to be updated regularly"
   ]
  },
  {
   "cell_type": "markdown",
   "metadata": {
    "slideshow": {
     "slide_type": "notes"
    }
   },
   "source": [
    "On addition of any user or new item, model needs to be retrained to use those values"
   ]
  },
  {
   "cell_type": "markdown",
   "metadata": {
    "slideshow": {
     "slide_type": "subslide"
    }
   },
   "source": [
    "#### Upside to Collaborative Filtering Approaches"
   ]
  },
  {
   "cell_type": "markdown",
   "metadata": {
    "slideshow": {
     "slide_type": "fragment"
    }
   },
   "source": [
    "* Works well in providing cross domain recommendation"
   ]
  },
  {
   "cell_type": "markdown",
   "metadata": {
    "slideshow": {
     "slide_type": "fragment"
    }
   },
   "source": [
    "* Creates fresher and diverse recommendations for users based on his purchase history compared to content based"
   ]
  },
  {
   "cell_type": "markdown",
   "metadata": {
    "slideshow": {
     "slide_type": "subslide"
    }
   },
   "source": [
    "![title](img2/fathers.png)"
   ]
  },
  {
   "cell_type": "markdown",
   "metadata": {
    "slideshow": {
     "slide_type": "notes"
    }
   },
   "source": [
    "I particularly like this approach! You know, common, there is a work around to the cold start problem. You've not purchased anything from Amazon, so they might not put you in a cluster but hey, they know you live in the US and Father's day is around the corner so!\n",
    "\n",
    "You can buy something for your Dad, stranger! Just buy something will you"
   ]
  },
  {
   "cell_type": "markdown",
   "metadata": {
    "slideshow": {
     "slide_type": "slide"
    }
   },
   "source": [
    "<h1>Outline</h1>\n",
    "\n",
    " * <h2 style=\"color:green\">Let's talk about AI today</h2> \n",
    " * <h2 style=\"color:green\">Privacy vs Convenience</h2> \n",
    " * <h2 style=\"color:green\">Overview of Recommender Systems</h2> \n",
    " * <h2 style=\"color:green\">Methods for Building a Recommender System</h2> \n",
    " * <h2 style=\"color:red\">Implementing a Recommender System</h2> \n",
    " \n",
    "\n",
    "\n",
    "\n"
   ]
  },
  {
   "cell_type": "markdown",
   "metadata": {
    "slideshow": {
     "slide_type": "notes"
    }
   },
   "source": [
    "On that note, we end the overview and begin our workshop building a simple recommendation Engine. "
   ]
  },
  {
   "cell_type": "code",
   "execution_count": null,
   "metadata": {},
   "outputs": [],
   "source": []
  },
  {
   "cell_type": "markdown",
   "metadata": {
    "slideshow": {
     "slide_type": "subslide"
    }
   },
   "source": [
    "#### Instructions\n",
    "\n",
    "* Go to https://go.ncsu.edu/flames_ml\n",
    "* Download the repository \n",
    "* Go to https://cocalc.com/\n",
    "* Create a new project called \"Flames_Recommender_systems\"\n",
    "* Click \"Upload File\", Choose \"twenty_users_ratings.csv\" from Highschool Folder on your computer\n",
    "* Click \"Upload File\", Choose \"Flames_Recommenders_System_Code.ipynb\" from Highschool Folder on your computer\n",
    "* Open \"Flames_Recommenders_System_Code.ipynb\"\n",
    "* Click run all"
   ]
  },
  {
   "cell_type": "markdown",
   "metadata": {
    "slideshow": {
     "slide_type": "subslide"
    }
   },
   "source": [
    "#### Section 1: Collaborative Filtering with Python"
   ]
  },
  {
   "cell_type": "markdown",
   "metadata": {
    "slideshow": {
     "slide_type": "slide"
    }
   },
   "source": [
    "<h2><p style=\"display: block; text-align: center;\">Think about Clusters, We think Similarities</p></h2>\n",
    "\n",
    "\n",
    "\n"
   ]
  },
  {
   "cell_type": "markdown",
   "metadata": {
    "slideshow": {
     "slide_type": "notes"
    }
   },
   "source": [
    "We'll be building a collaborative filtering based recommendation systems. That calculates similarities between ratings users have given a movie and use used a similarity matrics called euclidean similarity, to find similar users and recommend movies from those similar users. "
   ]
  },
  {
   "cell_type": "markdown",
   "metadata": {
    "slideshow": {
     "slide_type": "fragment"
    }
   },
   "source": [
    "* If John loves it and John is similar to Mary, it's likely that Mary will love it too!"
   ]
  },
  {
   "cell_type": "markdown",
   "metadata": {
    "slideshow": {
     "slide_type": "notes"
    }
   },
   "source": [
    "User-based Filtering: these system will recommend movies to a user that similar users have liked. For example, let's say John and Mary have watched and liked a set of movies in the past, that means they are similar. We'll give a score to the extent to which they are similar using Euclidean similarity matrics. (that is, they largely like the same movies). \n",
    "\n",
    "Now, suppose some new movies have been released on Netflix. If John has watched and loved it. Then our recommedation system will suggest these set of new movies to Mary as it is highly likely that Mary will like it too."
   ]
  },
  {
   "cell_type": "markdown",
   "metadata": {
    "slideshow": {
     "slide_type": "subslide"
    }
   },
   "source": [
    "#### Question\n",
    "\n",
    "* From what we know about collaborative filtering, can anyone tell us what data/attributes we need for collaborative filtering?"
   ]
  },
  {
   "cell_type": "markdown",
   "metadata": {
    "slideshow": {
     "slide_type": "fragment"
    }
   },
   "source": [
    "#### Answer\n",
    "* Movies all users have watched \n",
    "* Ratings by all users on all they movies they have watched"
   ]
  },
  {
   "cell_type": "markdown",
   "metadata": {
    "slideshow": {
     "slide_type": "slide"
    }
   },
   "source": [
    "### Let's Code\n",
    "\n",
    "The code used in this section was adapted from: [ai_society](https://ai-society.github.io/Collaborative-Filtering/)\n",
    "You can also modify it for other datasets as well.\n"
   ]
  },
  {
   "cell_type": "code",
   "execution_count": 2,
   "metadata": {
    "slideshow": {
     "slide_type": "fragment"
    }
   },
   "outputs": [],
   "source": [
    "#Import necessary libraries\n",
    "import math\n",
    "import pandas as pd"
   ]
  },
  {
   "cell_type": "code",
   "execution_count": 3,
   "metadata": {
    "slideshow": {
     "slide_type": "subslide"
    }
   },
   "outputs": [
    {
     "data": {
      "text/html": [
       "<div>\n",
       "<style scoped>\n",
       "    .dataframe tbody tr th:only-of-type {\n",
       "        vertical-align: middle;\n",
       "    }\n",
       "\n",
       "    .dataframe tbody tr th {\n",
       "        vertical-align: top;\n",
       "    }\n",
       "\n",
       "    .dataframe thead th {\n",
       "        text-align: right;\n",
       "    }\n",
       "</style>\n",
       "<table border=\"1\" class=\"dataframe\">\n",
       "  <thead>\n",
       "    <tr style=\"text-align: right;\">\n",
       "      <th></th>\n",
       "      <th>userId</th>\n",
       "      <th>movieId</th>\n",
       "      <th>rating</th>\n",
       "      <th>timestamp</th>\n",
       "      <th>movie_title</th>\n",
       "      <th>user_name</th>\n",
       "    </tr>\n",
       "  </thead>\n",
       "  <tbody>\n",
       "    <tr>\n",
       "      <th>2129</th>\n",
       "      <td>20</td>\n",
       "      <td>2115</td>\n",
       "      <td>3.5</td>\n",
       "      <td>1126539606</td>\n",
       "      <td>Indiana Jones and the Temple of Doom (1984)</td>\n",
       "      <td>Sarah</td>\n",
       "    </tr>\n",
       "    <tr>\n",
       "      <th>2130</th>\n",
       "      <td>20</td>\n",
       "      <td>2571</td>\n",
       "      <td>4.0</td>\n",
       "      <td>1126539826</td>\n",
       "      <td>Matrix, The (1999)</td>\n",
       "      <td>Sarah</td>\n",
       "    </tr>\n",
       "    <tr>\n",
       "      <th>2131</th>\n",
       "      <td>20</td>\n",
       "      <td>2710</td>\n",
       "      <td>4.0</td>\n",
       "      <td>1126539586</td>\n",
       "      <td>Blair Witch Project, The (1999)</td>\n",
       "      <td>Sarah</td>\n",
       "    </tr>\n",
       "    <tr>\n",
       "      <th>2132</th>\n",
       "      <td>20</td>\n",
       "      <td>2987</td>\n",
       "      <td>3.0</td>\n",
       "      <td>1126539549</td>\n",
       "      <td>Who Framed Roger Rabbit? (1988)</td>\n",
       "      <td>Sarah</td>\n",
       "    </tr>\n",
       "    <tr>\n",
       "      <th>2133</th>\n",
       "      <td>20</td>\n",
       "      <td>3176</td>\n",
       "      <td>3.0</td>\n",
       "      <td>1126539815</td>\n",
       "      <td>Talented Mr. Ripley, The (1999)</td>\n",
       "      <td>Sarah</td>\n",
       "    </tr>\n",
       "    <tr>\n",
       "      <th>2134</th>\n",
       "      <td>20</td>\n",
       "      <td>3785</td>\n",
       "      <td>3.0</td>\n",
       "      <td>1126539891</td>\n",
       "      <td>Scary Movie (2000)</td>\n",
       "      <td>Sarah</td>\n",
       "    </tr>\n",
       "    <tr>\n",
       "      <th>2135</th>\n",
       "      <td>20</td>\n",
       "      <td>4306</td>\n",
       "      <td>3.5</td>\n",
       "      <td>1126539543</td>\n",
       "      <td>Shrek (2001)</td>\n",
       "      <td>Sarah</td>\n",
       "    </tr>\n",
       "    <tr>\n",
       "      <th>2136</th>\n",
       "      <td>20</td>\n",
       "      <td>4351</td>\n",
       "      <td>3.5</td>\n",
       "      <td>1126539896</td>\n",
       "      <td>Point Break (1991)</td>\n",
       "      <td>Sarah</td>\n",
       "    </tr>\n",
       "    <tr>\n",
       "      <th>2137</th>\n",
       "      <td>20</td>\n",
       "      <td>5952</td>\n",
       "      <td>3.5</td>\n",
       "      <td>1126539610</td>\n",
       "      <td>Lord of the Rings: The Two Towers, The (2002)</td>\n",
       "      <td>Sarah</td>\n",
       "    </tr>\n",
       "    <tr>\n",
       "      <th>2138</th>\n",
       "      <td>20</td>\n",
       "      <td>6807</td>\n",
       "      <td>3.5</td>\n",
       "      <td>1126539870</td>\n",
       "      <td>Monty Python's The Meaning of Life (1983)</td>\n",
       "      <td>Sarah</td>\n",
       "    </tr>\n",
       "  </tbody>\n",
       "</table>\n",
       "</div>"
      ],
      "text/plain": [
       "      userId  movieId  rating   timestamp  \\\n",
       "2129      20     2115     3.5  1126539606   \n",
       "2130      20     2571     4.0  1126539826   \n",
       "2131      20     2710     4.0  1126539586   \n",
       "2132      20     2987     3.0  1126539549   \n",
       "2133      20     3176     3.0  1126539815   \n",
       "2134      20     3785     3.0  1126539891   \n",
       "2135      20     4306     3.5  1126539543   \n",
       "2136      20     4351     3.5  1126539896   \n",
       "2137      20     5952     3.5  1126539610   \n",
       "2138      20     6807     3.5  1126539870   \n",
       "\n",
       "                                        movie_title user_name  \n",
       "2129    Indiana Jones and the Temple of Doom (1984)     Sarah  \n",
       "2130                             Matrix, The (1999)     Sarah  \n",
       "2131                Blair Witch Project, The (1999)     Sarah  \n",
       "2132                Who Framed Roger Rabbit? (1988)     Sarah  \n",
       "2133                Talented Mr. Ripley, The (1999)     Sarah  \n",
       "2134                             Scary Movie (2000)     Sarah  \n",
       "2135                                   Shrek (2001)     Sarah  \n",
       "2136                             Point Break (1991)     Sarah  \n",
       "2137  Lord of the Rings: The Two Towers, The (2002)     Sarah  \n",
       "2138      Monty Python's The Meaning of Life (1983)     Sarah  "
      ]
     },
     "execution_count": 3,
     "metadata": {},
     "output_type": "execute_result"
    }
   ],
   "source": [
    "#Let's read our data into memory\n",
    "ratings = pd.read_csv(\"twenty_users_ratings.csv\",  index_col=False)\n",
    "ratings.tail(10)\n"
   ]
  },
  {
   "cell_type": "code",
   "execution_count": 4,
   "metadata": {
    "slideshow": {
     "slide_type": "subslide"
    }
   },
   "outputs": [
    {
     "data": {
      "text/plain": [
       "array(['Michael', 'Christopher', 'Jessica', 'Matthew', 'Ashley',\n",
       "       'Jennifer', 'Joshua', 'Amanda', 'Daniel', 'David', 'James',\n",
       "       'Robert', 'John', 'Joseph', 'Andrew', 'Ryan', 'Brandon', 'Jason',\n",
       "       'Justin', 'Sarah'], dtype=object)"
      ]
     },
     "execution_count": 4,
     "metadata": {},
     "output_type": "execute_result"
    }
   ],
   "source": [
    "#Let's see all the users \n",
    "ratings.user_name.unique()"
   ]
  },
  {
   "cell_type": "code",
   "execution_count": 5,
   "metadata": {
    "slideshow": {
     "slide_type": "fragment"
    }
   },
   "outputs": [],
   "source": [
    "# Make a copy of our dataframe so that we don't accidentally modify it\n",
    "ratings_dict = ratings.copy()"
   ]
  },
  {
   "cell_type": "code",
   "execution_count": 6,
   "metadata": {
    "slideshow": {
     "slide_type": "subslide"
    }
   },
   "outputs": [],
   "source": [
    "#Make a dictionary of users and the movies they rated\n",
    "all_dict = dict()\n",
    "for usr in ratings_dict.user_name:\n",
    "    one_usr = ratings_dict[ratings_dict.user_name==usr]\n",
    "    usr_dict = dict(zip(one_usr.movie_title, one_usr.rating))\n",
    "    #all_dict = {usr: usr_dict}\n",
    "    all_dict[str(usr)] = usr_dict\n",
    "    \n"
   ]
  },
  {
   "cell_type": "code",
   "execution_count": 7,
   "metadata": {
    "slideshow": {
     "slide_type": "subslide"
    }
   },
   "outputs": [],
   "source": [
    "data = all_dict\n",
    "#Function for calculating similarities\n",
    "def euclidean_similarity(person1, person2):\n",
    "\n",
    "    common_ranked_items = [itm for itm in data[person1] if itm in data[person2]]\n",
    "    rankings = [(data[person1][itm], data[person2][itm]) for itm in common_ranked_items]\n",
    "    distance = [pow(rank[0] - rank[1], 2) for rank in rankings]\n",
    "\n",
    "    return 1 / (1 + sum(distance))"
   ]
  },
  {
   "cell_type": "code",
   "execution_count": 8,
   "metadata": {
    "slideshow": {
     "slide_type": "subslide"
    }
   },
   "outputs": [],
   "source": [
    "# This is a recommend function, which we call to recommend movies to users\n",
    "def recommend(person, bound, similarity=euclidean_similarity):\n",
    "    scores = [(similarity(person, other), other) for other in data if other != person]\n",
    "    \n",
    "    scores.sort()\n",
    "    scores.reverse()\n",
    "    scores = scores[0:bound]\n",
    "\n",
    "    print (scores)\n",
    "    #print (scores.) #(0.5, 'Jennifer'), (0.4, 'Robert'), (0.3076923076923077, 'Brandon'),... 0.5 is more similar\n",
    "\n",
    "    recomms = {}\n",
    "\n",
    "    for sim, other in scores:\n",
    "        ranked = data[other] #Get the movies and respective rating from these users in the same cluster\n",
    "\n",
    "        for itm in ranked: #for all movie similar users have watched\n",
    "            if itm not in data[person]: #get movies this user has not already watched\n",
    "                weight = sim * ranked[itm] #multiply the similarity by the \n",
    "\n",
    "                if itm in recomms:\n",
    "                    s, weights = recomms[itm]\n",
    "                    recomms[itm] = (s + sim, weights + [weight])\n",
    "                else:\n",
    "                    recomms[itm] = (sim, [weight])\n",
    "\n",
    "    #print(recomms)               \n",
    "    for r in recomms:\n",
    "        sim, item = recomms[r]\n",
    "        #print(item) \n",
    "        #print(sum(item)) \n",
    "        recomms[r] = sum(item) / sim #predicted ranking for each movie = actual ranking/similarity\n",
    "\n",
    "    #return recomms\n",
    "    return sorted(recomms.items(), key=lambda x: x[1], reverse=True)[0:bound]"
   ]
  },
  {
   "cell_type": "code",
   "execution_count": null,
   "metadata": {},
   "outputs": [],
   "source": []
  },
  {
   "cell_type": "code",
   "execution_count": 9,
   "metadata": {
    "slideshow": {
     "slide_type": "subslide"
    }
   },
   "outputs": [
    {
     "name": "stdout",
     "output_type": "stream",
     "text": [
      "[(0.5, 'Jennifer'), (0.4, 'Robert'), (0.3076923076923077, 'Brandon'), (0.2857142857142857, 'David'), (0.2857142857142857, 'Andrew')]\n"
     ]
    },
    {
     "data": {
      "text/plain": [
       "[('Mighty Aphrodite (1995)', 5.0),\n",
       " (\"Mr. Holland's Opus (1995)\", 5.0),\n",
       " ('Fatal Attraction (1987)', 5.0),\n",
       " ('Patriot Games (1992)', 5.0),\n",
       " ('Gladiator (2000)', 5.0)]"
      ]
     },
     "execution_count": 9,
     "metadata": {},
     "output_type": "execute_result"
    }
   ],
   "source": [
    "# Finally, Let's recommend 5 movies to Michael\n",
    "recommend(\"Michael\", 5, euclidean_similarity)"
   ]
  },
  {
   "cell_type": "markdown",
   "metadata": {
    "slideshow": {
     "slide_type": "slide"
    }
   },
   "source": [
    "<h1>Thanks for coming & Happy Recommending!</h1>"
   ]
  }
 ],
 "metadata": {
  "celltoolbar": "Slideshow",
  "kernelspec": {
   "display_name": "Python 3",
   "language": "python",
   "name": "python3"
  },
  "language_info": {
   "codemirror_mode": {
    "name": "ipython",
    "version": 3
   },
   "file_extension": ".py",
   "mimetype": "text/x-python",
   "name": "python",
   "nbconvert_exporter": "python",
   "pygments_lexer": "ipython3",
   "version": "3.6.8"
  }
 },
 "nbformat": 4,
 "nbformat_minor": 2
}
